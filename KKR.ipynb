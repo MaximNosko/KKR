{
 "cells": [
  {
   "cell_type": "code",
   "execution_count": 1,
   "metadata": {},
   "outputs": [],
   "source": [
    "import pandas as pd"
   ]
  },
  {
   "cell_type": "code",
   "execution_count": 2,
   "metadata": {},
   "outputs": [
    {
     "data": {
      "text/html": [
       "<div>\n",
       "<style scoped>\n",
       "    .dataframe tbody tr th:only-of-type {\n",
       "        vertical-align: middle;\n",
       "    }\n",
       "\n",
       "    .dataframe tbody tr th {\n",
       "        vertical-align: top;\n",
       "    }\n",
       "\n",
       "    .dataframe thead th {\n",
       "        text-align: right;\n",
       "    }\n",
       "</style>\n",
       "<table border=\"1\" class=\"dataframe\">\n",
       "  <thead>\n",
       "    <tr style=\"text-align: right;\">\n",
       "      <th></th>\n",
       "      <th>Province/State</th>\n",
       "      <th>Country/Region</th>\n",
       "      <th>Lat</th>\n",
       "      <th>Long</th>\n",
       "      <th>1/22/20</th>\n",
       "      <th>1/23/20</th>\n",
       "      <th>1/24/20</th>\n",
       "      <th>1/25/20</th>\n",
       "      <th>1/26/20</th>\n",
       "      <th>1/27/20</th>\n",
       "      <th>...</th>\n",
       "      <th>11/6/20</th>\n",
       "      <th>11/7/20</th>\n",
       "      <th>11/8/20</th>\n",
       "      <th>11/9/20</th>\n",
       "      <th>11/10/20</th>\n",
       "      <th>11/11/20</th>\n",
       "      <th>11/12/20</th>\n",
       "      <th>11/13/20</th>\n",
       "      <th>11/14/20</th>\n",
       "      <th>11/15/20</th>\n",
       "    </tr>\n",
       "  </thead>\n",
       "  <tbody>\n",
       "    <tr>\n",
       "      <td>0</td>\n",
       "      <td>NaN</td>\n",
       "      <td>Afghanistan</td>\n",
       "      <td>33.939110</td>\n",
       "      <td>67.709953</td>\n",
       "      <td>0</td>\n",
       "      <td>0</td>\n",
       "      <td>0</td>\n",
       "      <td>0</td>\n",
       "      <td>0</td>\n",
       "      <td>0</td>\n",
       "      <td>...</td>\n",
       "      <td>41975</td>\n",
       "      <td>42033</td>\n",
       "      <td>42092</td>\n",
       "      <td>42297</td>\n",
       "      <td>42463</td>\n",
       "      <td>42609</td>\n",
       "      <td>42795</td>\n",
       "      <td>42969</td>\n",
       "      <td>43035</td>\n",
       "      <td>43240</td>\n",
       "    </tr>\n",
       "    <tr>\n",
       "      <td>1</td>\n",
       "      <td>NaN</td>\n",
       "      <td>Albania</td>\n",
       "      <td>41.153300</td>\n",
       "      <td>20.168300</td>\n",
       "      <td>0</td>\n",
       "      <td>0</td>\n",
       "      <td>0</td>\n",
       "      <td>0</td>\n",
       "      <td>0</td>\n",
       "      <td>0</td>\n",
       "      <td>...</td>\n",
       "      <td>23210</td>\n",
       "      <td>23705</td>\n",
       "      <td>24206</td>\n",
       "      <td>24731</td>\n",
       "      <td>25294</td>\n",
       "      <td>25801</td>\n",
       "      <td>26211</td>\n",
       "      <td>26701</td>\n",
       "      <td>27233</td>\n",
       "      <td>27830</td>\n",
       "    </tr>\n",
       "    <tr>\n",
       "      <td>2</td>\n",
       "      <td>NaN</td>\n",
       "      <td>Algeria</td>\n",
       "      <td>28.033900</td>\n",
       "      <td>1.659600</td>\n",
       "      <td>0</td>\n",
       "      <td>0</td>\n",
       "      <td>0</td>\n",
       "      <td>0</td>\n",
       "      <td>0</td>\n",
       "      <td>0</td>\n",
       "      <td>...</td>\n",
       "      <td>60800</td>\n",
       "      <td>61381</td>\n",
       "      <td>62051</td>\n",
       "      <td>62693</td>\n",
       "      <td>63446</td>\n",
       "      <td>64257</td>\n",
       "      <td>65108</td>\n",
       "      <td>65975</td>\n",
       "      <td>66819</td>\n",
       "      <td>67679</td>\n",
       "    </tr>\n",
       "    <tr>\n",
       "      <td>3</td>\n",
       "      <td>NaN</td>\n",
       "      <td>Andorra</td>\n",
       "      <td>42.506300</td>\n",
       "      <td>1.521800</td>\n",
       "      <td>0</td>\n",
       "      <td>0</td>\n",
       "      <td>0</td>\n",
       "      <td>0</td>\n",
       "      <td>0</td>\n",
       "      <td>0</td>\n",
       "      <td>...</td>\n",
       "      <td>5135</td>\n",
       "      <td>5319</td>\n",
       "      <td>5383</td>\n",
       "      <td>5437</td>\n",
       "      <td>5477</td>\n",
       "      <td>5567</td>\n",
       "      <td>5616</td>\n",
       "      <td>5725</td>\n",
       "      <td>5725</td>\n",
       "      <td>5872</td>\n",
       "    </tr>\n",
       "    <tr>\n",
       "      <td>4</td>\n",
       "      <td>NaN</td>\n",
       "      <td>Angola</td>\n",
       "      <td>-11.202700</td>\n",
       "      <td>17.873900</td>\n",
       "      <td>0</td>\n",
       "      <td>0</td>\n",
       "      <td>0</td>\n",
       "      <td>0</td>\n",
       "      <td>0</td>\n",
       "      <td>0</td>\n",
       "      <td>...</td>\n",
       "      <td>12223</td>\n",
       "      <td>12335</td>\n",
       "      <td>12433</td>\n",
       "      <td>12680</td>\n",
       "      <td>12816</td>\n",
       "      <td>12953</td>\n",
       "      <td>13053</td>\n",
       "      <td>13228</td>\n",
       "      <td>13374</td>\n",
       "      <td>13451</td>\n",
       "    </tr>\n",
       "    <tr>\n",
       "      <td>...</td>\n",
       "      <td>...</td>\n",
       "      <td>...</td>\n",
       "      <td>...</td>\n",
       "      <td>...</td>\n",
       "      <td>...</td>\n",
       "      <td>...</td>\n",
       "      <td>...</td>\n",
       "      <td>...</td>\n",
       "      <td>...</td>\n",
       "      <td>...</td>\n",
       "      <td>...</td>\n",
       "      <td>...</td>\n",
       "      <td>...</td>\n",
       "      <td>...</td>\n",
       "      <td>...</td>\n",
       "      <td>...</td>\n",
       "      <td>...</td>\n",
       "      <td>...</td>\n",
       "      <td>...</td>\n",
       "      <td>...</td>\n",
       "      <td>...</td>\n",
       "    </tr>\n",
       "    <tr>\n",
       "      <td>264</td>\n",
       "      <td>NaN</td>\n",
       "      <td>West Bank and Gaza</td>\n",
       "      <td>31.952200</td>\n",
       "      <td>35.233200</td>\n",
       "      <td>0</td>\n",
       "      <td>0</td>\n",
       "      <td>0</td>\n",
       "      <td>0</td>\n",
       "      <td>0</td>\n",
       "      <td>0</td>\n",
       "      <td>...</td>\n",
       "      <td>57226</td>\n",
       "      <td>57657</td>\n",
       "      <td>58158</td>\n",
       "      <td>58838</td>\n",
       "      <td>59422</td>\n",
       "      <td>60065</td>\n",
       "      <td>60784</td>\n",
       "      <td>61514</td>\n",
       "      <td>62167</td>\n",
       "      <td>63031</td>\n",
       "    </tr>\n",
       "    <tr>\n",
       "      <td>265</td>\n",
       "      <td>NaN</td>\n",
       "      <td>Western Sahara</td>\n",
       "      <td>24.215500</td>\n",
       "      <td>-12.885800</td>\n",
       "      <td>0</td>\n",
       "      <td>0</td>\n",
       "      <td>0</td>\n",
       "      <td>0</td>\n",
       "      <td>0</td>\n",
       "      <td>0</td>\n",
       "      <td>...</td>\n",
       "      <td>10</td>\n",
       "      <td>10</td>\n",
       "      <td>10</td>\n",
       "      <td>10</td>\n",
       "      <td>10</td>\n",
       "      <td>10</td>\n",
       "      <td>10</td>\n",
       "      <td>10</td>\n",
       "      <td>10</td>\n",
       "      <td>10</td>\n",
       "    </tr>\n",
       "    <tr>\n",
       "      <td>266</td>\n",
       "      <td>NaN</td>\n",
       "      <td>Yemen</td>\n",
       "      <td>15.552727</td>\n",
       "      <td>48.516388</td>\n",
       "      <td>0</td>\n",
       "      <td>0</td>\n",
       "      <td>0</td>\n",
       "      <td>0</td>\n",
       "      <td>0</td>\n",
       "      <td>0</td>\n",
       "      <td>...</td>\n",
       "      <td>2067</td>\n",
       "      <td>2070</td>\n",
       "      <td>2070</td>\n",
       "      <td>2071</td>\n",
       "      <td>2071</td>\n",
       "      <td>2071</td>\n",
       "      <td>2071</td>\n",
       "      <td>2072</td>\n",
       "      <td>2072</td>\n",
       "      <td>2072</td>\n",
       "    </tr>\n",
       "    <tr>\n",
       "      <td>267</td>\n",
       "      <td>NaN</td>\n",
       "      <td>Zambia</td>\n",
       "      <td>-13.133897</td>\n",
       "      <td>27.849332</td>\n",
       "      <td>0</td>\n",
       "      <td>0</td>\n",
       "      <td>0</td>\n",
       "      <td>0</td>\n",
       "      <td>0</td>\n",
       "      <td>0</td>\n",
       "      <td>...</td>\n",
       "      <td>16819</td>\n",
       "      <td>16908</td>\n",
       "      <td>16954</td>\n",
       "      <td>16971</td>\n",
       "      <td>16997</td>\n",
       "      <td>17036</td>\n",
       "      <td>17056</td>\n",
       "      <td>17093</td>\n",
       "      <td>17097</td>\n",
       "      <td>17123</td>\n",
       "    </tr>\n",
       "    <tr>\n",
       "      <td>268</td>\n",
       "      <td>NaN</td>\n",
       "      <td>Zimbabwe</td>\n",
       "      <td>-19.015438</td>\n",
       "      <td>29.154857</td>\n",
       "      <td>0</td>\n",
       "      <td>0</td>\n",
       "      <td>0</td>\n",
       "      <td>0</td>\n",
       "      <td>0</td>\n",
       "      <td>0</td>\n",
       "      <td>...</td>\n",
       "      <td>8471</td>\n",
       "      <td>8498</td>\n",
       "      <td>8531</td>\n",
       "      <td>8561</td>\n",
       "      <td>8610</td>\n",
       "      <td>8667</td>\n",
       "      <td>8696</td>\n",
       "      <td>8765</td>\n",
       "      <td>8786</td>\n",
       "      <td>8829</td>\n",
       "    </tr>\n",
       "  </tbody>\n",
       "</table>\n",
       "<p>269 rows × 303 columns</p>\n",
       "</div>"
      ],
      "text/plain": [
       "    Province/State      Country/Region        Lat       Long  1/22/20  \\\n",
       "0              NaN         Afghanistan  33.939110  67.709953        0   \n",
       "1              NaN             Albania  41.153300  20.168300        0   \n",
       "2              NaN             Algeria  28.033900   1.659600        0   \n",
       "3              NaN             Andorra  42.506300   1.521800        0   \n",
       "4              NaN              Angola -11.202700  17.873900        0   \n",
       "..             ...                 ...        ...        ...      ...   \n",
       "264            NaN  West Bank and Gaza  31.952200  35.233200        0   \n",
       "265            NaN      Western Sahara  24.215500 -12.885800        0   \n",
       "266            NaN               Yemen  15.552727  48.516388        0   \n",
       "267            NaN              Zambia -13.133897  27.849332        0   \n",
       "268            NaN            Zimbabwe -19.015438  29.154857        0   \n",
       "\n",
       "     1/23/20  1/24/20  1/25/20  1/26/20  1/27/20  ...  11/6/20  11/7/20  \\\n",
       "0          0        0        0        0        0  ...    41975    42033   \n",
       "1          0        0        0        0        0  ...    23210    23705   \n",
       "2          0        0        0        0        0  ...    60800    61381   \n",
       "3          0        0        0        0        0  ...     5135     5319   \n",
       "4          0        0        0        0        0  ...    12223    12335   \n",
       "..       ...      ...      ...      ...      ...  ...      ...      ...   \n",
       "264        0        0        0        0        0  ...    57226    57657   \n",
       "265        0        0        0        0        0  ...       10       10   \n",
       "266        0        0        0        0        0  ...     2067     2070   \n",
       "267        0        0        0        0        0  ...    16819    16908   \n",
       "268        0        0        0        0        0  ...     8471     8498   \n",
       "\n",
       "     11/8/20  11/9/20  11/10/20  11/11/20  11/12/20  11/13/20  11/14/20  \\\n",
       "0      42092    42297     42463     42609     42795     42969     43035   \n",
       "1      24206    24731     25294     25801     26211     26701     27233   \n",
       "2      62051    62693     63446     64257     65108     65975     66819   \n",
       "3       5383     5437      5477      5567      5616      5725      5725   \n",
       "4      12433    12680     12816     12953     13053     13228     13374   \n",
       "..       ...      ...       ...       ...       ...       ...       ...   \n",
       "264    58158    58838     59422     60065     60784     61514     62167   \n",
       "265       10       10        10        10        10        10        10   \n",
       "266     2070     2071      2071      2071      2071      2072      2072   \n",
       "267    16954    16971     16997     17036     17056     17093     17097   \n",
       "268     8531     8561      8610      8667      8696      8765      8786   \n",
       "\n",
       "     11/15/20  \n",
       "0       43240  \n",
       "1       27830  \n",
       "2       67679  \n",
       "3        5872  \n",
       "4       13451  \n",
       "..        ...  \n",
       "264     63031  \n",
       "265        10  \n",
       "266      2072  \n",
       "267     17123  \n",
       "268      8829  \n",
       "\n",
       "[269 rows x 303 columns]"
      ]
     },
     "execution_count": 2,
     "metadata": {},
     "output_type": "execute_result"
    }
   ],
   "source": [
    "m=pd.read_csv(\"csse_covid_19_time_series/time_series_covid19_confirmed_global.csv\")\n",
    "m"
   ]
  },
  {
   "cell_type": "code",
   "execution_count": 3,
   "metadata": {},
   "outputs": [],
   "source": [
    "def getByCountry(m,n_country,rus_country):\n",
    "    t=pd.DataFrame(list(zip(m.columns[4:],list(m.iterrows())[n_country][1][4:])))\n",
    "    t.columns=(\"Дата\",rus_country)\n",
    "    t=t.set_index(\"Дата\")\n",
    "    return t\n"
   ]
  },
  {
   "cell_type": "code",
   "execution_count": 4,
   "metadata": {},
   "outputs": [],
   "source": [
    "nas={\"Всего\":7817410000,\"Россия\":146550000,\"США\":329210630,\"Германия\":83149300,\"Великобритания\":66993318}"
   ]
  },
  {
   "cell_type": "code",
   "execution_count": 5,
   "metadata": {},
   "outputs": [],
   "source": [
    "def getForEarth(m):\n",
    "    tm=[]\n",
    "    for i in m.columns[4:]:\n",
    "        tm.append((i,m[i].sum()))\n",
    "    tm=pd.DataFrame(tm)\n",
    "    tm.columns=(\"Дата\",\"Всего\")\n",
    "    tm=tm.set_index(\"Дата\")\n",
    "    return tm\n"
   ]
  },
  {
   "cell_type": "code",
   "execution_count": 6,
   "metadata": {},
   "outputs": [],
   "source": [
    "def setPercentage(m,nas):\n",
    "    for i in m:\n",
    "        m[i+\"%\"]=[i2/nas[i]*100 for i2 in m[i]]"
   ]
  },
  {
   "cell_type": "code",
   "execution_count": 7,
   "metadata": {},
   "outputs": [],
   "source": [
    "def getKurs(m):\n",
    "    tm=pd.read_csv(\"kurs.csv\")\n",
    "    tm[\"Дата\"]=tm[\"Дата\"].map(lambda z:str(int(z.split(\".\")[1]))+\"/\"+str(int(z.split(\".\")[0]))+\"/\"+z.split(\".\")[2][2:])\n",
    "    tm=tm.set_index(\"Дата\")\n",
    "    m[\"Доллар США\"]=tm[\"Доллар США\"]\n",
    "    m[\"Евро\"]=tm[\"Евро\"]"
   ]
  },
  {
   "cell_type": "code",
   "execution_count": 8,
   "metadata": {},
   "outputs": [],
   "source": [
    "def fixKurs(m,v):\n",
    "    kvo=0\n",
    "    while True:\n",
    "        tv=m[v].shift(1)\n",
    "        nv=list()\n",
    "        for i,z in enumerate(m[v]):\n",
    "            if str(z)==\"nan\":\n",
    "                nv.append(tv[i])\n",
    "                kvo+=1\n",
    "            else:\n",
    "                nv.append(m[v][i])\n",
    "        m[v]=nv\n",
    "        if kvo==0:\n",
    "            break\n",
    "        else:\n",
    "            kvo=0"
   ]
  },
  {
   "cell_type": "code",
   "execution_count": 9,
   "metadata": {},
   "outputs": [],
   "source": [
    "import time"
   ]
  },
  {
   "cell_type": "code",
   "execution_count": 10,
   "metadata": {
    "scrolled": false
   },
   "outputs": [
    {
     "name": "stdout",
     "output_type": "stream",
     "text": [
      "198 ms ± 3.9 ms per loop (mean ± std. dev. of 7 runs, 1 loop each)\n"
     ]
    }
   ],
   "source": [
    "%%timeit\n",
    "t=getByCountry(m,209,\"Россия\")\n",
    "t[\"США\"]=getByCountry(m,244,\"США\")\n",
    "t[\"Германия\"]=getByCountry(m,130,\"Германия\")\n",
    "t[\"Великобритания\"]=getByCountry(m,258,\"Великобритания\")\n",
    "t[\"Всего\"]=getForEarth(m)\n",
    "setPercentage(t,nas)\n",
    "getKurs(t)\n",
    "fixKurs(t,\"Доллар США\")\n",
    "fixKurs(t,\"Евро\")\n",
    "t[\"Доллар/Евро\"]=t[\"Доллар США\"]/t[\"Евро\"]\n",
    "t[\"Евро/Доллар\"]=t[\"Евро\"]/t[\"Доллар США\"]\n",
    "t"
   ]
  },
  {
   "cell_type": "code",
   "execution_count": 11,
   "metadata": {},
   "outputs": [
    {
     "name": "stdout",
     "output_type": "stream",
     "text": [
      "0.11210823059082031\n"
     ]
    },
    {
     "data": {
      "text/html": [
       "<div>\n",
       "<style scoped>\n",
       "    .dataframe tbody tr th:only-of-type {\n",
       "        vertical-align: middle;\n",
       "    }\n",
       "\n",
       "    .dataframe tbody tr th {\n",
       "        vertical-align: top;\n",
       "    }\n",
       "\n",
       "    .dataframe thead th {\n",
       "        text-align: right;\n",
       "    }\n",
       "</style>\n",
       "<table border=\"1\" class=\"dataframe\">\n",
       "  <thead>\n",
       "    <tr style=\"text-align: right;\">\n",
       "      <th></th>\n",
       "      <th>Россия</th>\n",
       "      <th>США</th>\n",
       "      <th>Германия</th>\n",
       "      <th>Великобритания</th>\n",
       "      <th>Всего</th>\n",
       "      <th>Россия%</th>\n",
       "      <th>США%</th>\n",
       "      <th>Германия%</th>\n",
       "      <th>Великобритания%</th>\n",
       "      <th>Всего%</th>\n",
       "      <th>Доллар США</th>\n",
       "      <th>Евро</th>\n",
       "      <th>Доллар/Евро</th>\n",
       "      <th>Евро/Доллар</th>\n",
       "    </tr>\n",
       "    <tr>\n",
       "      <th>Дата</th>\n",
       "      <th></th>\n",
       "      <th></th>\n",
       "      <th></th>\n",
       "      <th></th>\n",
       "      <th></th>\n",
       "      <th></th>\n",
       "      <th></th>\n",
       "      <th></th>\n",
       "      <th></th>\n",
       "      <th></th>\n",
       "      <th></th>\n",
       "      <th></th>\n",
       "      <th></th>\n",
       "      <th></th>\n",
       "    </tr>\n",
       "  </thead>\n",
       "  <tbody>\n",
       "    <tr>\n",
       "      <td>1/22/20</td>\n",
       "      <td>0</td>\n",
       "      <td>1</td>\n",
       "      <td>0</td>\n",
       "      <td>0</td>\n",
       "      <td>555</td>\n",
       "      <td>0.000000</td>\n",
       "      <td>3.037569e-07</td>\n",
       "      <td>0.000000</td>\n",
       "      <td>0.000000</td>\n",
       "      <td>0.000007</td>\n",
       "      <td>61.8552</td>\n",
       "      <td>68.6222</td>\n",
       "      <td>0.901388</td>\n",
       "      <td>1.109401</td>\n",
       "    </tr>\n",
       "    <tr>\n",
       "      <td>1/23/20</td>\n",
       "      <td>0</td>\n",
       "      <td>1</td>\n",
       "      <td>0</td>\n",
       "      <td>0</td>\n",
       "      <td>654</td>\n",
       "      <td>0.000000</td>\n",
       "      <td>3.037569e-07</td>\n",
       "      <td>0.000000</td>\n",
       "      <td>0.000000</td>\n",
       "      <td>0.000008</td>\n",
       "      <td>61.8343</td>\n",
       "      <td>68.5186</td>\n",
       "      <td>0.902445</td>\n",
       "      <td>1.108100</td>\n",
       "    </tr>\n",
       "    <tr>\n",
       "      <td>1/24/20</td>\n",
       "      <td>0</td>\n",
       "      <td>2</td>\n",
       "      <td>0</td>\n",
       "      <td>0</td>\n",
       "      <td>941</td>\n",
       "      <td>0.000000</td>\n",
       "      <td>6.075138e-07</td>\n",
       "      <td>0.000000</td>\n",
       "      <td>0.000000</td>\n",
       "      <td>0.000012</td>\n",
       "      <td>61.9515</td>\n",
       "      <td>68.6856</td>\n",
       "      <td>0.901958</td>\n",
       "      <td>1.108700</td>\n",
       "    </tr>\n",
       "    <tr>\n",
       "      <td>1/25/20</td>\n",
       "      <td>0</td>\n",
       "      <td>2</td>\n",
       "      <td>0</td>\n",
       "      <td>0</td>\n",
       "      <td>1434</td>\n",
       "      <td>0.000000</td>\n",
       "      <td>6.075138e-07</td>\n",
       "      <td>0.000000</td>\n",
       "      <td>0.000000</td>\n",
       "      <td>0.000018</td>\n",
       "      <td>61.8031</td>\n",
       "      <td>68.2924</td>\n",
       "      <td>0.904978</td>\n",
       "      <td>1.105000</td>\n",
       "    </tr>\n",
       "    <tr>\n",
       "      <td>1/26/20</td>\n",
       "      <td>0</td>\n",
       "      <td>5</td>\n",
       "      <td>0</td>\n",
       "      <td>0</td>\n",
       "      <td>2118</td>\n",
       "      <td>0.000000</td>\n",
       "      <td>1.518784e-06</td>\n",
       "      <td>0.000000</td>\n",
       "      <td>0.000000</td>\n",
       "      <td>0.000027</td>\n",
       "      <td>61.8031</td>\n",
       "      <td>68.2924</td>\n",
       "      <td>0.904978</td>\n",
       "      <td>1.105000</td>\n",
       "    </tr>\n",
       "    <tr>\n",
       "      <td>...</td>\n",
       "      <td>...</td>\n",
       "      <td>...</td>\n",
       "      <td>...</td>\n",
       "      <td>...</td>\n",
       "      <td>...</td>\n",
       "      <td>...</td>\n",
       "      <td>...</td>\n",
       "      <td>...</td>\n",
       "      <td>...</td>\n",
       "      <td>...</td>\n",
       "      <td>...</td>\n",
       "      <td>...</td>\n",
       "      <td>...</td>\n",
       "      <td>...</td>\n",
       "    </tr>\n",
       "    <tr>\n",
       "      <td>11/11/20</td>\n",
       "      <td>1822345</td>\n",
       "      <td>10399325</td>\n",
       "      <td>738094</td>\n",
       "      <td>1256725</td>\n",
       "      <td>52126793</td>\n",
       "      <td>1.243497</td>\n",
       "      <td>3.158867e+00</td>\n",
       "      <td>0.887673</td>\n",
       "      <td>1.875896</td>\n",
       "      <td>0.666804</td>\n",
       "      <td>76.3978</td>\n",
       "      <td>90.3557</td>\n",
       "      <td>0.845523</td>\n",
       "      <td>1.182700</td>\n",
       "    </tr>\n",
       "    <tr>\n",
       "      <td>11/12/20</td>\n",
       "      <td>1843678</td>\n",
       "      <td>10560111</td>\n",
       "      <td>762832</td>\n",
       "      <td>1290195</td>\n",
       "      <td>52740580</td>\n",
       "      <td>1.258054</td>\n",
       "      <td>3.207707e+00</td>\n",
       "      <td>0.917424</td>\n",
       "      <td>1.925856</td>\n",
       "      <td>0.674655</td>\n",
       "      <td>76.2075</td>\n",
       "      <td>90.0468</td>\n",
       "      <td>0.846310</td>\n",
       "      <td>1.181600</td>\n",
       "    </tr>\n",
       "    <tr>\n",
       "      <td>11/13/20</td>\n",
       "      <td>1865395</td>\n",
       "      <td>10737335</td>\n",
       "      <td>785093</td>\n",
       "      <td>1317496</td>\n",
       "      <td>53365400</td>\n",
       "      <td>1.272873</td>\n",
       "      <td>3.261540e+00</td>\n",
       "      <td>0.944197</td>\n",
       "      <td>1.966608</td>\n",
       "      <td>0.682648</td>\n",
       "      <td>77.1148</td>\n",
       "      <td>90.8104</td>\n",
       "      <td>0.849185</td>\n",
       "      <td>1.177600</td>\n",
       "    </tr>\n",
       "    <tr>\n",
       "      <td>11/14/20</td>\n",
       "      <td>1887836</td>\n",
       "      <td>10903890</td>\n",
       "      <td>799733</td>\n",
       "      <td>1344356</td>\n",
       "      <td>53927158</td>\n",
       "      <td>1.288186</td>\n",
       "      <td>3.312132e+00</td>\n",
       "      <td>0.961804</td>\n",
       "      <td>2.006702</td>\n",
       "      <td>0.689834</td>\n",
       "      <td>77.3262</td>\n",
       "      <td>91.3222</td>\n",
       "      <td>0.846740</td>\n",
       "      <td>1.180999</td>\n",
       "    </tr>\n",
       "    <tr>\n",
       "      <td>11/15/20</td>\n",
       "      <td>1910149</td>\n",
       "      <td>11036935</td>\n",
       "      <td>802946</td>\n",
       "      <td>1369318</td>\n",
       "      <td>54370186</td>\n",
       "      <td>1.303411</td>\n",
       "      <td>3.352545e+00</td>\n",
       "      <td>0.965668</td>\n",
       "      <td>2.043962</td>\n",
       "      <td>0.695501</td>\n",
       "      <td>77.3262</td>\n",
       "      <td>91.3222</td>\n",
       "      <td>0.846740</td>\n",
       "      <td>1.180999</td>\n",
       "    </tr>\n",
       "  </tbody>\n",
       "</table>\n",
       "<p>299 rows × 14 columns</p>\n",
       "</div>"
      ],
      "text/plain": [
       "           Россия       США  Германия  Великобритания     Всего   Россия%  \\\n",
       "Дата                                                                        \n",
       "1/22/20         0         1         0               0       555  0.000000   \n",
       "1/23/20         0         1         0               0       654  0.000000   \n",
       "1/24/20         0         2         0               0       941  0.000000   \n",
       "1/25/20         0         2         0               0      1434  0.000000   \n",
       "1/26/20         0         5         0               0      2118  0.000000   \n",
       "...           ...       ...       ...             ...       ...       ...   \n",
       "11/11/20  1822345  10399325    738094         1256725  52126793  1.243497   \n",
       "11/12/20  1843678  10560111    762832         1290195  52740580  1.258054   \n",
       "11/13/20  1865395  10737335    785093         1317496  53365400  1.272873   \n",
       "11/14/20  1887836  10903890    799733         1344356  53927158  1.288186   \n",
       "11/15/20  1910149  11036935    802946         1369318  54370186  1.303411   \n",
       "\n",
       "                  США%  Германия%  Великобритания%    Всего%  Доллар США  \\\n",
       "Дата                                                                       \n",
       "1/22/20   3.037569e-07   0.000000         0.000000  0.000007     61.8552   \n",
       "1/23/20   3.037569e-07   0.000000         0.000000  0.000008     61.8343   \n",
       "1/24/20   6.075138e-07   0.000000         0.000000  0.000012     61.9515   \n",
       "1/25/20   6.075138e-07   0.000000         0.000000  0.000018     61.8031   \n",
       "1/26/20   1.518784e-06   0.000000         0.000000  0.000027     61.8031   \n",
       "...                ...        ...              ...       ...         ...   \n",
       "11/11/20  3.158867e+00   0.887673         1.875896  0.666804     76.3978   \n",
       "11/12/20  3.207707e+00   0.917424         1.925856  0.674655     76.2075   \n",
       "11/13/20  3.261540e+00   0.944197         1.966608  0.682648     77.1148   \n",
       "11/14/20  3.312132e+00   0.961804         2.006702  0.689834     77.3262   \n",
       "11/15/20  3.352545e+00   0.965668         2.043962  0.695501     77.3262   \n",
       "\n",
       "             Евро  Доллар/Евро  Евро/Доллар  \n",
       "Дата                                         \n",
       "1/22/20   68.6222     0.901388     1.109401  \n",
       "1/23/20   68.5186     0.902445     1.108100  \n",
       "1/24/20   68.6856     0.901958     1.108700  \n",
       "1/25/20   68.2924     0.904978     1.105000  \n",
       "1/26/20   68.2924     0.904978     1.105000  \n",
       "...           ...          ...          ...  \n",
       "11/11/20  90.3557     0.845523     1.182700  \n",
       "11/12/20  90.0468     0.846310     1.181600  \n",
       "11/13/20  90.8104     0.849185     1.177600  \n",
       "11/14/20  91.3222     0.846740     1.180999  \n",
       "11/15/20  91.3222     0.846740     1.180999  \n",
       "\n",
       "[299 rows x 14 columns]"
      ]
     },
     "execution_count": 11,
     "metadata": {},
     "output_type": "execute_result"
    }
   ],
   "source": [
    "time_start=time.time()\n",
    "t=getByCountry(m,209,\"Россия\")\n",
    "t[\"США\"]=getByCountry(m,244,\"США\")\n",
    "t[\"Германия\"]=getByCountry(m,130,\"Германия\")\n",
    "t[\"Великобритания\"]=getByCountry(m,258,\"Великобритания\")\n",
    "print(time.time()-time_start)\n",
    "t[\"Всего\"]=getForEarth(m)\n",
    "setPercentage(t,nas)\n",
    "getKurs(t)\n",
    "fixKurs(t,\"Доллар США\")\n",
    "fixKurs(t,\"Евро\")\n",
    "t[\"Доллар/Евро\"]=t[\"Доллар США\"]/t[\"Евро\"]\n",
    "t[\"Евро/Доллар\"]=t[\"Евро\"]/t[\"Доллар США\"]\n",
    "t"
   ]
  },
  {
   "cell_type": "code",
   "execution_count": 12,
   "metadata": {},
   "outputs": [],
   "source": [
    "from threading import Thread\n",
    "class threadCountry(Thread):\n",
    "    def __init__(self,m,n_country,rus_country,t):\n",
    "        Thread.__init__(self)\n",
    "        self.m=m\n",
    "        self.n_country=n_country\n",
    "        self.rus_country=rus_country\n",
    "        self.t=t\n",
    "    def run(self):\n",
    "        tt=pd.DataFrame(list(zip(self.m.columns[4:],list(self.m.iterrows())[self.n_country][1][4:])))\n",
    "        tt.columns=(\"Дата\",self.rus_country)\n",
    "        tt=tt.set_index(\"Дата\")\n",
    "        self.t[self.rus_country]=tt[self.rus_country]"
   ]
  },
  {
   "cell_type": "code",
   "execution_count": 13,
   "metadata": {},
   "outputs": [
    {
     "name": "stdout",
     "output_type": "stream",
     "text": [
      "202 ms ± 6.06 ms per loop (mean ± std. dev. of 7 runs, 1 loop each)\n"
     ]
    }
   ],
   "source": [
    "%%timeit\n",
    "t2=pd.DataFrame()\n",
    "potoki=[]\n",
    "for i in [(\"Россия\",209),(\"США\",244),(\"Германия\",130),(\"Великобритания\",258)]:\n",
    "    potoki.append(threadCountry(m,i[1],i[0],t2))\n",
    "    potoki[-1].start()\n",
    "for i in potoki:\n",
    "    i.join()\n",
    "t2[\"Всего\"]=getForEarth(m)\n",
    "setPercentage(t2,nas)\n",
    "getKurs(t2)\n",
    "fixKurs(t2,\"Доллар США\")\n",
    "fixKurs(t2,\"Евро\")\n",
    "t2[\"Доллар/Евро\"]=t[\"Доллар США\"]/t2[\"Евро\"]\n",
    "t2[\"Евро/Доллар\"]=t[\"Евро\"]/t2[\"Доллар США\"]\n",
    "t2"
   ]
  },
  {
   "cell_type": "code",
   "execution_count": 32,
   "metadata": {
    "scrolled": false
   },
   "outputs": [
    {
     "name": "stdout",
     "output_type": "stream",
     "text": [
      "0.10009503364562988\n"
     ]
    },
    {
     "data": {
      "text/html": [
       "<div>\n",
       "<style scoped>\n",
       "    .dataframe tbody tr th:only-of-type {\n",
       "        vertical-align: middle;\n",
       "    }\n",
       "\n",
       "    .dataframe tbody tr th {\n",
       "        vertical-align: top;\n",
       "    }\n",
       "\n",
       "    .dataframe thead th {\n",
       "        text-align: right;\n",
       "    }\n",
       "</style>\n",
       "<table border=\"1\" class=\"dataframe\">\n",
       "  <thead>\n",
       "    <tr style=\"text-align: right;\">\n",
       "      <th></th>\n",
       "      <th>США</th>\n",
       "      <th>Россия</th>\n",
       "      <th>Германия</th>\n",
       "      <th>Великобритания</th>\n",
       "      <th>Всего</th>\n",
       "      <th>США%</th>\n",
       "      <th>Россия%</th>\n",
       "      <th>Германия%</th>\n",
       "      <th>Великобритания%</th>\n",
       "      <th>Всего%</th>\n",
       "      <th>Доллар США</th>\n",
       "      <th>Евро</th>\n",
       "      <th>Доллар/Евро</th>\n",
       "      <th>Евро/Доллар</th>\n",
       "    </tr>\n",
       "    <tr>\n",
       "      <th>Дата</th>\n",
       "      <th></th>\n",
       "      <th></th>\n",
       "      <th></th>\n",
       "      <th></th>\n",
       "      <th></th>\n",
       "      <th></th>\n",
       "      <th></th>\n",
       "      <th></th>\n",
       "      <th></th>\n",
       "      <th></th>\n",
       "      <th></th>\n",
       "      <th></th>\n",
       "      <th></th>\n",
       "      <th></th>\n",
       "    </tr>\n",
       "  </thead>\n",
       "  <tbody>\n",
       "    <tr>\n",
       "      <td>1/22/20</td>\n",
       "      <td>1</td>\n",
       "      <td>0</td>\n",
       "      <td>0</td>\n",
       "      <td>0</td>\n",
       "      <td>555</td>\n",
       "      <td>3.037569e-07</td>\n",
       "      <td>0.000000</td>\n",
       "      <td>0.000000</td>\n",
       "      <td>0.000000</td>\n",
       "      <td>0.000007</td>\n",
       "      <td>61.8552</td>\n",
       "      <td>68.6222</td>\n",
       "      <td>0.901388</td>\n",
       "      <td>1.109401</td>\n",
       "    </tr>\n",
       "    <tr>\n",
       "      <td>1/23/20</td>\n",
       "      <td>1</td>\n",
       "      <td>0</td>\n",
       "      <td>0</td>\n",
       "      <td>0</td>\n",
       "      <td>654</td>\n",
       "      <td>3.037569e-07</td>\n",
       "      <td>0.000000</td>\n",
       "      <td>0.000000</td>\n",
       "      <td>0.000000</td>\n",
       "      <td>0.000008</td>\n",
       "      <td>61.8343</td>\n",
       "      <td>68.5186</td>\n",
       "      <td>0.902445</td>\n",
       "      <td>1.108100</td>\n",
       "    </tr>\n",
       "    <tr>\n",
       "      <td>1/24/20</td>\n",
       "      <td>2</td>\n",
       "      <td>0</td>\n",
       "      <td>0</td>\n",
       "      <td>0</td>\n",
       "      <td>941</td>\n",
       "      <td>6.075138e-07</td>\n",
       "      <td>0.000000</td>\n",
       "      <td>0.000000</td>\n",
       "      <td>0.000000</td>\n",
       "      <td>0.000012</td>\n",
       "      <td>61.9515</td>\n",
       "      <td>68.6856</td>\n",
       "      <td>0.901958</td>\n",
       "      <td>1.108700</td>\n",
       "    </tr>\n",
       "    <tr>\n",
       "      <td>1/25/20</td>\n",
       "      <td>2</td>\n",
       "      <td>0</td>\n",
       "      <td>0</td>\n",
       "      <td>0</td>\n",
       "      <td>1434</td>\n",
       "      <td>6.075138e-07</td>\n",
       "      <td>0.000000</td>\n",
       "      <td>0.000000</td>\n",
       "      <td>0.000000</td>\n",
       "      <td>0.000018</td>\n",
       "      <td>61.8031</td>\n",
       "      <td>68.2924</td>\n",
       "      <td>0.904978</td>\n",
       "      <td>1.105000</td>\n",
       "    </tr>\n",
       "    <tr>\n",
       "      <td>1/26/20</td>\n",
       "      <td>5</td>\n",
       "      <td>0</td>\n",
       "      <td>0</td>\n",
       "      <td>0</td>\n",
       "      <td>2118</td>\n",
       "      <td>1.518784e-06</td>\n",
       "      <td>0.000000</td>\n",
       "      <td>0.000000</td>\n",
       "      <td>0.000000</td>\n",
       "      <td>0.000027</td>\n",
       "      <td>61.8031</td>\n",
       "      <td>68.2924</td>\n",
       "      <td>0.904978</td>\n",
       "      <td>1.105000</td>\n",
       "    </tr>\n",
       "    <tr>\n",
       "      <td>...</td>\n",
       "      <td>...</td>\n",
       "      <td>...</td>\n",
       "      <td>...</td>\n",
       "      <td>...</td>\n",
       "      <td>...</td>\n",
       "      <td>...</td>\n",
       "      <td>...</td>\n",
       "      <td>...</td>\n",
       "      <td>...</td>\n",
       "      <td>...</td>\n",
       "      <td>...</td>\n",
       "      <td>...</td>\n",
       "      <td>...</td>\n",
       "      <td>...</td>\n",
       "    </tr>\n",
       "    <tr>\n",
       "      <td>11/11/20</td>\n",
       "      <td>10399325</td>\n",
       "      <td>1822345</td>\n",
       "      <td>738094</td>\n",
       "      <td>1256725</td>\n",
       "      <td>52126793</td>\n",
       "      <td>3.158867e+00</td>\n",
       "      <td>1.243497</td>\n",
       "      <td>0.887673</td>\n",
       "      <td>1.875896</td>\n",
       "      <td>0.666804</td>\n",
       "      <td>76.3978</td>\n",
       "      <td>90.3557</td>\n",
       "      <td>0.845523</td>\n",
       "      <td>1.182700</td>\n",
       "    </tr>\n",
       "    <tr>\n",
       "      <td>11/12/20</td>\n",
       "      <td>10560111</td>\n",
       "      <td>1843678</td>\n",
       "      <td>762832</td>\n",
       "      <td>1290195</td>\n",
       "      <td>52740580</td>\n",
       "      <td>3.207707e+00</td>\n",
       "      <td>1.258054</td>\n",
       "      <td>0.917424</td>\n",
       "      <td>1.925856</td>\n",
       "      <td>0.674655</td>\n",
       "      <td>76.2075</td>\n",
       "      <td>90.0468</td>\n",
       "      <td>0.846310</td>\n",
       "      <td>1.181600</td>\n",
       "    </tr>\n",
       "    <tr>\n",
       "      <td>11/13/20</td>\n",
       "      <td>10737335</td>\n",
       "      <td>1865395</td>\n",
       "      <td>785093</td>\n",
       "      <td>1317496</td>\n",
       "      <td>53365400</td>\n",
       "      <td>3.261540e+00</td>\n",
       "      <td>1.272873</td>\n",
       "      <td>0.944197</td>\n",
       "      <td>1.966608</td>\n",
       "      <td>0.682648</td>\n",
       "      <td>77.1148</td>\n",
       "      <td>90.8104</td>\n",
       "      <td>0.849185</td>\n",
       "      <td>1.177600</td>\n",
       "    </tr>\n",
       "    <tr>\n",
       "      <td>11/14/20</td>\n",
       "      <td>10903890</td>\n",
       "      <td>1887836</td>\n",
       "      <td>799733</td>\n",
       "      <td>1344356</td>\n",
       "      <td>53927158</td>\n",
       "      <td>3.312132e+00</td>\n",
       "      <td>1.288186</td>\n",
       "      <td>0.961804</td>\n",
       "      <td>2.006702</td>\n",
       "      <td>0.689834</td>\n",
       "      <td>77.3262</td>\n",
       "      <td>91.3222</td>\n",
       "      <td>0.846740</td>\n",
       "      <td>1.180999</td>\n",
       "    </tr>\n",
       "    <tr>\n",
       "      <td>11/15/20</td>\n",
       "      <td>11036935</td>\n",
       "      <td>1910149</td>\n",
       "      <td>802946</td>\n",
       "      <td>1369318</td>\n",
       "      <td>54370186</td>\n",
       "      <td>3.352545e+00</td>\n",
       "      <td>1.303411</td>\n",
       "      <td>0.965668</td>\n",
       "      <td>2.043962</td>\n",
       "      <td>0.695501</td>\n",
       "      <td>77.3262</td>\n",
       "      <td>91.3222</td>\n",
       "      <td>0.846740</td>\n",
       "      <td>1.180999</td>\n",
       "    </tr>\n",
       "  </tbody>\n",
       "</table>\n",
       "<p>299 rows × 14 columns</p>\n",
       "</div>"
      ],
      "text/plain": [
       "               США   Россия  Германия  Великобритания     Всего          США%  \\\n",
       "Дата                                                                            \n",
       "1/22/20          1        0         0               0       555  3.037569e-07   \n",
       "1/23/20          1        0         0               0       654  3.037569e-07   \n",
       "1/24/20          2        0         0               0       941  6.075138e-07   \n",
       "1/25/20          2        0         0               0      1434  6.075138e-07   \n",
       "1/26/20          5        0         0               0      2118  1.518784e-06   \n",
       "...            ...      ...       ...             ...       ...           ...   \n",
       "11/11/20  10399325  1822345    738094         1256725  52126793  3.158867e+00   \n",
       "11/12/20  10560111  1843678    762832         1290195  52740580  3.207707e+00   \n",
       "11/13/20  10737335  1865395    785093         1317496  53365400  3.261540e+00   \n",
       "11/14/20  10903890  1887836    799733         1344356  53927158  3.312132e+00   \n",
       "11/15/20  11036935  1910149    802946         1369318  54370186  3.352545e+00   \n",
       "\n",
       "           Россия%  Германия%  Великобритания%    Всего%  Доллар США     Евро  \\\n",
       "Дата                                                                            \n",
       "1/22/20   0.000000   0.000000         0.000000  0.000007     61.8552  68.6222   \n",
       "1/23/20   0.000000   0.000000         0.000000  0.000008     61.8343  68.5186   \n",
       "1/24/20   0.000000   0.000000         0.000000  0.000012     61.9515  68.6856   \n",
       "1/25/20   0.000000   0.000000         0.000000  0.000018     61.8031  68.2924   \n",
       "1/26/20   0.000000   0.000000         0.000000  0.000027     61.8031  68.2924   \n",
       "...            ...        ...              ...       ...         ...      ...   \n",
       "11/11/20  1.243497   0.887673         1.875896  0.666804     76.3978  90.3557   \n",
       "11/12/20  1.258054   0.917424         1.925856  0.674655     76.2075  90.0468   \n",
       "11/13/20  1.272873   0.944197         1.966608  0.682648     77.1148  90.8104   \n",
       "11/14/20  1.288186   0.961804         2.006702  0.689834     77.3262  91.3222   \n",
       "11/15/20  1.303411   0.965668         2.043962  0.695501     77.3262  91.3222   \n",
       "\n",
       "          Доллар/Евро  Евро/Доллар  \n",
       "Дата                                \n",
       "1/22/20      0.901388     1.109401  \n",
       "1/23/20      0.902445     1.108100  \n",
       "1/24/20      0.901958     1.108700  \n",
       "1/25/20      0.904978     1.105000  \n",
       "1/26/20      0.904978     1.105000  \n",
       "...               ...          ...  \n",
       "11/11/20     0.845523     1.182700  \n",
       "11/12/20     0.846310     1.181600  \n",
       "11/13/20     0.849185     1.177600  \n",
       "11/14/20     0.846740     1.180999  \n",
       "11/15/20     0.846740     1.180999  \n",
       "\n",
       "[299 rows x 14 columns]"
      ]
     },
     "execution_count": 32,
     "metadata": {},
     "output_type": "execute_result"
    }
   ],
   "source": [
    "time_start=time.time()\n",
    "t2=pd.DataFrame()\n",
    "potoki=[]\n",
    "for i in [(\"Россия\",209),(\"США\",244),(\"Германия\",130),(\"Великобритания\",258)]:\n",
    "    potoki.append(threadCountry(m,i[1],i[0],t2))\n",
    "    potoki[-1].start()\n",
    "for i in potoki:\n",
    "    i.join()\n",
    "print(time.time()-time_start)\n",
    "t2[\"Всего\"]=getForEarth(m)\n",
    "setPercentage(t2,nas)\n",
    "getKurs(t2)\n",
    "fixKurs(t2,\"Доллар США\")\n",
    "fixKurs(t2,\"Евро\")\n",
    "t2[\"Доллар/Евро\"]=t[\"Доллар США\"]/t2[\"Евро\"]\n",
    "t2[\"Евро/Доллар\"]=t[\"Евро\"]/t2[\"Доллар США\"]\n",
    "t2"
   ]
  },
  {
   "cell_type": "code",
   "execution_count": 15,
   "metadata": {
    "scrolled": false
   },
   "outputs": [
    {
     "data": {
      "text/html": [
       "<div>\n",
       "<style scoped>\n",
       "    .dataframe tbody tr th:only-of-type {\n",
       "        vertical-align: middle;\n",
       "    }\n",
       "\n",
       "    .dataframe tbody tr th {\n",
       "        vertical-align: top;\n",
       "    }\n",
       "\n",
       "    .dataframe thead th {\n",
       "        text-align: right;\n",
       "    }\n",
       "</style>\n",
       "<table border=\"1\" class=\"dataframe\">\n",
       "  <thead>\n",
       "    <tr style=\"text-align: right;\">\n",
       "      <th></th>\n",
       "      <th>Россия</th>\n",
       "      <th>США</th>\n",
       "      <th>Германия</th>\n",
       "      <th>Великобритания</th>\n",
       "      <th>Всего</th>\n",
       "      <th>Россия%</th>\n",
       "      <th>США%</th>\n",
       "      <th>Германия%</th>\n",
       "      <th>Великобритания%</th>\n",
       "      <th>Всего%</th>\n",
       "      <th>Доллар США</th>\n",
       "      <th>Евро</th>\n",
       "      <th>Доллар/Евро</th>\n",
       "      <th>Евро/Доллар</th>\n",
       "    </tr>\n",
       "  </thead>\n",
       "  <tbody>\n",
       "    <tr>\n",
       "      <td>Россия</td>\n",
       "      <td>1.000000</td>\n",
       "      <td>0.989528</td>\n",
       "      <td>0.913293</td>\n",
       "      <td>0.919619</td>\n",
       "      <td>0.979168</td>\n",
       "      <td>1.000000</td>\n",
       "      <td>0.989528</td>\n",
       "      <td>0.913293</td>\n",
       "      <td>0.919619</td>\n",
       "      <td>0.979168</td>\n",
       "      <td>0.559986</td>\n",
       "      <td>0.789026</td>\n",
       "      <td>-0.876629</td>\n",
       "      <td>0.878016</td>\n",
       "    </tr>\n",
       "    <tr>\n",
       "      <td>США</td>\n",
       "      <td>0.989528</td>\n",
       "      <td>1.000000</td>\n",
       "      <td>0.906116</td>\n",
       "      <td>0.909251</td>\n",
       "      <td>0.993401</td>\n",
       "      <td>0.989528</td>\n",
       "      <td>1.000000</td>\n",
       "      <td>0.906116</td>\n",
       "      <td>0.909251</td>\n",
       "      <td>0.993401</td>\n",
       "      <td>0.608068</td>\n",
       "      <td>0.826695</td>\n",
       "      <td>-0.877269</td>\n",
       "      <td>0.880816</td>\n",
       "    </tr>\n",
       "    <tr>\n",
       "      <td>Германия</td>\n",
       "      <td>0.913293</td>\n",
       "      <td>0.906116</td>\n",
       "      <td>1.000000</td>\n",
       "      <td>0.984016</td>\n",
       "      <td>0.912374</td>\n",
       "      <td>0.913293</td>\n",
       "      <td>0.906116</td>\n",
       "      <td>1.000000</td>\n",
       "      <td>0.984016</td>\n",
       "      <td>0.912374</td>\n",
       "      <td>0.617842</td>\n",
       "      <td>0.744326</td>\n",
       "      <td>-0.667008</td>\n",
       "      <td>0.669802</td>\n",
       "    </tr>\n",
       "    <tr>\n",
       "      <td>Великобритания</td>\n",
       "      <td>0.919619</td>\n",
       "      <td>0.909251</td>\n",
       "      <td>0.984016</td>\n",
       "      <td>1.000000</td>\n",
       "      <td>0.928289</td>\n",
       "      <td>0.919619</td>\n",
       "      <td>0.909251</td>\n",
       "      <td>0.984016</td>\n",
       "      <td>1.000000</td>\n",
       "      <td>0.928289</td>\n",
       "      <td>0.565037</td>\n",
       "      <td>0.707129</td>\n",
       "      <td>-0.668618</td>\n",
       "      <td>0.670621</td>\n",
       "    </tr>\n",
       "    <tr>\n",
       "      <td>Всего</td>\n",
       "      <td>0.979168</td>\n",
       "      <td>0.993401</td>\n",
       "      <td>0.912374</td>\n",
       "      <td>0.928289</td>\n",
       "      <td>1.000000</td>\n",
       "      <td>0.979168</td>\n",
       "      <td>0.993401</td>\n",
       "      <td>0.912374</td>\n",
       "      <td>0.928289</td>\n",
       "      <td>1.000000</td>\n",
       "      <td>0.607428</td>\n",
       "      <td>0.814048</td>\n",
       "      <td>-0.845495</td>\n",
       "      <td>0.849006</td>\n",
       "    </tr>\n",
       "    <tr>\n",
       "      <td>Россия%</td>\n",
       "      <td>1.000000</td>\n",
       "      <td>0.989528</td>\n",
       "      <td>0.913293</td>\n",
       "      <td>0.919619</td>\n",
       "      <td>0.979168</td>\n",
       "      <td>1.000000</td>\n",
       "      <td>0.989528</td>\n",
       "      <td>0.913293</td>\n",
       "      <td>0.919619</td>\n",
       "      <td>0.979168</td>\n",
       "      <td>0.559986</td>\n",
       "      <td>0.789026</td>\n",
       "      <td>-0.876629</td>\n",
       "      <td>0.878016</td>\n",
       "    </tr>\n",
       "    <tr>\n",
       "      <td>США%</td>\n",
       "      <td>0.989528</td>\n",
       "      <td>1.000000</td>\n",
       "      <td>0.906116</td>\n",
       "      <td>0.909251</td>\n",
       "      <td>0.993401</td>\n",
       "      <td>0.989528</td>\n",
       "      <td>1.000000</td>\n",
       "      <td>0.906116</td>\n",
       "      <td>0.909251</td>\n",
       "      <td>0.993401</td>\n",
       "      <td>0.608068</td>\n",
       "      <td>0.826695</td>\n",
       "      <td>-0.877269</td>\n",
       "      <td>0.880816</td>\n",
       "    </tr>\n",
       "    <tr>\n",
       "      <td>Германия%</td>\n",
       "      <td>0.913293</td>\n",
       "      <td>0.906116</td>\n",
       "      <td>1.000000</td>\n",
       "      <td>0.984016</td>\n",
       "      <td>0.912374</td>\n",
       "      <td>0.913293</td>\n",
       "      <td>0.906116</td>\n",
       "      <td>1.000000</td>\n",
       "      <td>0.984016</td>\n",
       "      <td>0.912374</td>\n",
       "      <td>0.617842</td>\n",
       "      <td>0.744326</td>\n",
       "      <td>-0.667008</td>\n",
       "      <td>0.669802</td>\n",
       "    </tr>\n",
       "    <tr>\n",
       "      <td>Великобритания%</td>\n",
       "      <td>0.919619</td>\n",
       "      <td>0.909251</td>\n",
       "      <td>0.984016</td>\n",
       "      <td>1.000000</td>\n",
       "      <td>0.928289</td>\n",
       "      <td>0.919619</td>\n",
       "      <td>0.909251</td>\n",
       "      <td>0.984016</td>\n",
       "      <td>1.000000</td>\n",
       "      <td>0.928289</td>\n",
       "      <td>0.565037</td>\n",
       "      <td>0.707129</td>\n",
       "      <td>-0.668618</td>\n",
       "      <td>0.670621</td>\n",
       "    </tr>\n",
       "    <tr>\n",
       "      <td>Всего%</td>\n",
       "      <td>0.979168</td>\n",
       "      <td>0.993401</td>\n",
       "      <td>0.912374</td>\n",
       "      <td>0.928289</td>\n",
       "      <td>1.000000</td>\n",
       "      <td>0.979168</td>\n",
       "      <td>0.993401</td>\n",
       "      <td>0.912374</td>\n",
       "      <td>0.928289</td>\n",
       "      <td>1.000000</td>\n",
       "      <td>0.607428</td>\n",
       "      <td>0.814048</td>\n",
       "      <td>-0.845495</td>\n",
       "      <td>0.849006</td>\n",
       "    </tr>\n",
       "    <tr>\n",
       "      <td>Доллар США</td>\n",
       "      <td>0.559986</td>\n",
       "      <td>0.608068</td>\n",
       "      <td>0.617842</td>\n",
       "      <td>0.565037</td>\n",
       "      <td>0.607428</td>\n",
       "      <td>0.559986</td>\n",
       "      <td>0.608068</td>\n",
       "      <td>0.617842</td>\n",
       "      <td>0.565037</td>\n",
       "      <td>0.607428</td>\n",
       "      <td>1.000000</td>\n",
       "      <td>0.924935</td>\n",
       "      <td>-0.432153</td>\n",
       "      <td>0.438894</td>\n",
       "    </tr>\n",
       "    <tr>\n",
       "      <td>Евро</td>\n",
       "      <td>0.789026</td>\n",
       "      <td>0.826695</td>\n",
       "      <td>0.744326</td>\n",
       "      <td>0.707129</td>\n",
       "      <td>0.814048</td>\n",
       "      <td>0.789026</td>\n",
       "      <td>0.826695</td>\n",
       "      <td>0.744326</td>\n",
       "      <td>0.707129</td>\n",
       "      <td>0.814048</td>\n",
       "      <td>0.924935</td>\n",
       "      <td>1.000000</td>\n",
       "      <td>-0.741921</td>\n",
       "      <td>0.747135</td>\n",
       "    </tr>\n",
       "    <tr>\n",
       "      <td>Доллар/Евро</td>\n",
       "      <td>-0.876629</td>\n",
       "      <td>-0.877269</td>\n",
       "      <td>-0.667008</td>\n",
       "      <td>-0.668618</td>\n",
       "      <td>-0.845495</td>\n",
       "      <td>-0.876629</td>\n",
       "      <td>-0.877269</td>\n",
       "      <td>-0.667008</td>\n",
       "      <td>-0.668618</td>\n",
       "      <td>-0.845495</td>\n",
       "      <td>-0.432153</td>\n",
       "      <td>-0.741921</td>\n",
       "      <td>1.000000</td>\n",
       "      <td>-0.999735</td>\n",
       "    </tr>\n",
       "    <tr>\n",
       "      <td>Евро/Доллар</td>\n",
       "      <td>0.878016</td>\n",
       "      <td>0.880816</td>\n",
       "      <td>0.669802</td>\n",
       "      <td>0.670621</td>\n",
       "      <td>0.849006</td>\n",
       "      <td>0.878016</td>\n",
       "      <td>0.880816</td>\n",
       "      <td>0.669802</td>\n",
       "      <td>0.670621</td>\n",
       "      <td>0.849006</td>\n",
       "      <td>0.438894</td>\n",
       "      <td>0.747135</td>\n",
       "      <td>-0.999735</td>\n",
       "      <td>1.000000</td>\n",
       "    </tr>\n",
       "  </tbody>\n",
       "</table>\n",
       "</div>"
      ],
      "text/plain": [
       "                   Россия       США  Германия  Великобритания     Всего  \\\n",
       "Россия           1.000000  0.989528  0.913293        0.919619  0.979168   \n",
       "США              0.989528  1.000000  0.906116        0.909251  0.993401   \n",
       "Германия         0.913293  0.906116  1.000000        0.984016  0.912374   \n",
       "Великобритания   0.919619  0.909251  0.984016        1.000000  0.928289   \n",
       "Всего            0.979168  0.993401  0.912374        0.928289  1.000000   \n",
       "Россия%          1.000000  0.989528  0.913293        0.919619  0.979168   \n",
       "США%             0.989528  1.000000  0.906116        0.909251  0.993401   \n",
       "Германия%        0.913293  0.906116  1.000000        0.984016  0.912374   \n",
       "Великобритания%  0.919619  0.909251  0.984016        1.000000  0.928289   \n",
       "Всего%           0.979168  0.993401  0.912374        0.928289  1.000000   \n",
       "Доллар США       0.559986  0.608068  0.617842        0.565037  0.607428   \n",
       "Евро             0.789026  0.826695  0.744326        0.707129  0.814048   \n",
       "Доллар/Евро     -0.876629 -0.877269 -0.667008       -0.668618 -0.845495   \n",
       "Евро/Доллар      0.878016  0.880816  0.669802        0.670621  0.849006   \n",
       "\n",
       "                  Россия%      США%  Германия%  Великобритания%    Всего%  \\\n",
       "Россия           1.000000  0.989528   0.913293         0.919619  0.979168   \n",
       "США              0.989528  1.000000   0.906116         0.909251  0.993401   \n",
       "Германия         0.913293  0.906116   1.000000         0.984016  0.912374   \n",
       "Великобритания   0.919619  0.909251   0.984016         1.000000  0.928289   \n",
       "Всего            0.979168  0.993401   0.912374         0.928289  1.000000   \n",
       "Россия%          1.000000  0.989528   0.913293         0.919619  0.979168   \n",
       "США%             0.989528  1.000000   0.906116         0.909251  0.993401   \n",
       "Германия%        0.913293  0.906116   1.000000         0.984016  0.912374   \n",
       "Великобритания%  0.919619  0.909251   0.984016         1.000000  0.928289   \n",
       "Всего%           0.979168  0.993401   0.912374         0.928289  1.000000   \n",
       "Доллар США       0.559986  0.608068   0.617842         0.565037  0.607428   \n",
       "Евро             0.789026  0.826695   0.744326         0.707129  0.814048   \n",
       "Доллар/Евро     -0.876629 -0.877269  -0.667008        -0.668618 -0.845495   \n",
       "Евро/Доллар      0.878016  0.880816   0.669802         0.670621  0.849006   \n",
       "\n",
       "                 Доллар США      Евро  Доллар/Евро  Евро/Доллар  \n",
       "Россия             0.559986  0.789026    -0.876629     0.878016  \n",
       "США                0.608068  0.826695    -0.877269     0.880816  \n",
       "Германия           0.617842  0.744326    -0.667008     0.669802  \n",
       "Великобритания     0.565037  0.707129    -0.668618     0.670621  \n",
       "Всего              0.607428  0.814048    -0.845495     0.849006  \n",
       "Россия%            0.559986  0.789026    -0.876629     0.878016  \n",
       "США%               0.608068  0.826695    -0.877269     0.880816  \n",
       "Германия%          0.617842  0.744326    -0.667008     0.669802  \n",
       "Великобритания%    0.565037  0.707129    -0.668618     0.670621  \n",
       "Всего%             0.607428  0.814048    -0.845495     0.849006  \n",
       "Доллар США         1.000000  0.924935    -0.432153     0.438894  \n",
       "Евро               0.924935  1.000000    -0.741921     0.747135  \n",
       "Доллар/Евро       -0.432153 -0.741921     1.000000    -0.999735  \n",
       "Евро/Доллар        0.438894  0.747135    -0.999735     1.000000  "
      ]
     },
     "execution_count": 15,
     "metadata": {},
     "output_type": "execute_result"
    }
   ],
   "source": [
    "t.corr()"
   ]
  },
  {
   "cell_type": "code",
   "execution_count": 33,
   "metadata": {},
   "outputs": [
    {
     "data": {
      "text/plain": [
       "[<matplotlib.lines.Line2D at 0xcb4beacf08>]"
      ]
     },
     "execution_count": 33,
     "metadata": {},
     "output_type": "execute_result"
    },
    {
     "data": {
      "image/png": "[encoded data removed]",
      "text/plain": [
       "<Figure size 432x288 with 1 Axes>"
      ]
     },
     "metadata": {
      "needs_background": "light"
     },
     "output_type": "display_data"
    }
   ],
   "source": [
    "import matplotlib.pyplot as plt\n",
    "plt.plot(t.index, t['Всего'])"
   ]
  },
  {
   "cell_type": "code",
   "execution_count": 34,
   "metadata": {},
   "outputs": [
    {
     "data": {
      "text/plain": [
       "[<matplotlib.lines.Line2D at 0xcb4b9653c8>]"
      ]
     },
     "execution_count": 34,
     "metadata": {},
     "output_type": "execute_result"
    },
    {
     "data": {
      "image/png": "[encoded data removed]",
      "text/plain": [
       "<Figure size 432x288 with 1 Axes>"
      ]
     },
     "metadata": {
      "needs_background": "light"
     },
     "output_type": "display_data"
    }
   ],
   "source": [
    "import matplotlib.pyplot as plt\n",
    "plt.plot(t.index, t['Всего%'])"
   ]
  },
  {
   "cell_type": "code",
   "execution_count": 35,
   "metadata": {},
   "outputs": [
    {
     "data": {
      "text/plain": [
       "[<matplotlib.lines.Line2D at 0xcb4bcaf0c8>,\n",
       " <matplotlib.lines.Line2D at 0xcb4bc928c8>]"
      ]
     },
     "execution_count": 35,
     "metadata": {},
     "output_type": "execute_result"
    },
    {
     "data": {
      "image/png": "[encoded data removed]",
      "text/plain": [
       "<Figure size 432x288 with 1 Axes>"
      ]
     },
     "metadata": {
      "needs_background": "light"
     },
     "output_type": "display_data"
    }
   ],
   "source": [
    "import matplotlib.pyplot as plt\n",
    "plt.plot(t.index, t['Всего%'],t['Россия%'])"
   ]
  },
  {
   "cell_type": "code",
   "execution_count": 36,
   "metadata": {},
   "outputs": [
    {
     "data": {
      "text/plain": [
       "[<matplotlib.lines.Line2D at 0xcb4c1fafc8>,\n",
       " <matplotlib.lines.Line2D at 0xcb4c1fad48>]"
      ]
     },
     "execution_count": 36,
     "metadata": {},
     "output_type": "execute_result"
    },
    {
     "data": {
      "image/png": "[encoded data removed]",
      "text/plain": [
       "<Figure size 432x288 with 1 Axes>"
      ]
     },
     "metadata": {
      "needs_background": "light"
     },
     "output_type": "display_data"
    }
   ],
   "source": [
    "import matplotlib.pyplot as plt\n",
    "plt.plot(t.index, t['Всего%'],t['Германия%'])"
   ]
  },
  {
   "cell_type": "code",
   "execution_count": 37,
   "metadata": {},
   "outputs": [
    {
     "data": {
      "text/plain": [
       "[<matplotlib.lines.Line2D at 0xcb4d5663c8>,\n",
       " <matplotlib.lines.Line2D at 0xcb4d54fac8>]"
      ]
     },
     "execution_count": 37,
     "metadata": {},
     "output_type": "execute_result"
    },
    {
     "data": {
      "image/png": "[encoded data removed]",
      "text/plain": [
       "<Figure size 432x288 with 1 Axes>"
      ]
     },
     "metadata": {
      "needs_background": "light"
     },
     "output_type": "display_data"
    }
   ],
   "source": [
    "import matplotlib.pyplot as plt\n",
    "plt.plot(t.index, t['Всего%'],t['США%'])"
   ]
  },
  {
   "cell_type": "code",
   "execution_count": 38,
   "metadata": {},
   "outputs": [
    {
     "data": {
      "text/plain": [
       "[<matplotlib.lines.Line2D at 0xcb4d7d8bc8>,\n",
       " <matplotlib.lines.Line2D at 0xcb4d91fec8>]"
      ]
     },
     "execution_count": 38,
     "metadata": {},
     "output_type": "execute_result"
    },
    {
     "data": {
      "image/png": "[encoded data removed]",
      "text/plain": [
       "<Figure size 432x288 with 1 Axes>"
      ]
     },
     "metadata": {
      "needs_background": "light"
     },
     "output_type": "display_data"
    }
   ],
   "source": [
    "import matplotlib.pyplot as plt\n",
    "plt.plot(t.index, t['Россия%'],t['США%'])"
   ]
  },
  {
   "cell_type": "code",
   "execution_count": 39,
   "metadata": {},
   "outputs": [
    {
     "data": {
      "text/plain": [
       "[<matplotlib.lines.Line2D at 0xcb4dca5d48>,\n",
       " <matplotlib.lines.Line2D at 0xcb4dca5808>]"
      ]
     },
     "execution_count": 39,
     "metadata": {},
     "output_type": "execute_result"
    },
    {
     "data": {
      "image/png": "[encoded data removed]",
      "text/plain": [
       "<Figure size 432x288 with 1 Axes>"
      ]
     },
     "metadata": {
      "needs_background": "light"
     },
     "output_type": "display_data"
    }
   ],
   "source": [
    "import matplotlib.pyplot as plt\n",
    "plt.plot(t.index, t['Всего%'],t['Великобритания%'])"
   ]
  },
  {
   "cell_type": "code",
   "execution_count": 40,
   "metadata": {},
   "outputs": [
    {
     "data": {
      "text/plain": [
       "[<matplotlib.lines.Line2D at 0xcb4dfbe288>,\n",
       " <matplotlib.lines.Line2D at 0xcb4e026908>]"
      ]
     },
     "execution_count": 40,
     "metadata": {},
     "output_type": "execute_result"
    },
    {
     "data": {
      "image/png": "[encoded data removed]",
      "text/plain": [
       "<Figure size 432x288 with 1 Axes>"
      ]
     },
     "metadata": {
      "needs_background": "light"
     },
     "output_type": "display_data"
    }
   ],
   "source": [
    "import matplotlib.pyplot as plt\n",
    "plt.plot(t.index, t['Россия'],t['США'])"
   ]
  },
  {
   "cell_type": "code",
   "execution_count": 41,
   "metadata": {},
   "outputs": [
    {
     "data": {
      "text/plain": [
       "[<matplotlib.lines.Line2D at 0xcb4f37bfc8>,\n",
       " <matplotlib.lines.Line2D at 0xcb4f37bbc8>]"
      ]
     },
     "execution_count": 41,
     "metadata": {},
     "output_type": "execute_result"
    },
    {
     "data": {
      "image/png": "[encoded data removed]",
      "text/plain": [
       "<Figure size 432x288 with 1 Axes>"
      ]
     },
     "metadata": {
      "needs_background": "light"
     },
     "output_type": "display_data"
    }
   ],
   "source": [
    "import matplotlib.pyplot as plt\n",
    "plt.plot(t.index, t['Россия%'],t[\"Германия%\"])"
   ]
  },
  {
   "cell_type": "code",
   "execution_count": 42,
   "metadata": {},
   "outputs": [
    {
     "data": {
      "text/plain": [
       "[<matplotlib.lines.Line2D at 0xcb4f6c58c8>,\n",
       " <matplotlib.lines.Line2D at 0xcb4f6c5648>]"
      ]
     },
     "execution_count": 42,
     "metadata": {},
     "output_type": "execute_result"
    },
    {
     "data": {
      "image/png": "[encoded data removed]",
      "text/plain": [
       "<Figure size 432x288 with 1 Axes>"
      ]
     },
     "metadata": {
      "needs_background": "light"
     },
     "output_type": "display_data"
    }
   ],
   "source": [
    "import matplotlib.pyplot as plt\n",
    "\n",
    "plt.plot(t.index, t['Россия'],(t['Доллар США']-60)*100000)"
   ]
  },
  {
   "cell_type": "code",
   "execution_count": 43,
   "metadata": {},
   "outputs": [
    {
     "data": {
      "text/plain": [
       "[<matplotlib.lines.Line2D at 0xcb4fa78648>,\n",
       " <matplotlib.lines.Line2D at 0xcb4fa58048>]"
      ]
     },
     "execution_count": 43,
     "metadata": {},
     "output_type": "execute_result"
    },
    {
     "data": {
      "image/png": "[encoded data removed]",
      "text/plain": [
       "<Figure size 432x288 with 1 Axes>"
      ]
     },
     "metadata": {
      "needs_background": "light"
     },
     "output_type": "display_data"
    }
   ],
   "source": [
    "plt.plot(t.index, t['Россия'],(t['Евро']-70)*100000)"
   ]
  },
  {
   "cell_type": "code",
   "execution_count": 44,
   "metadata": {},
   "outputs": [
    {
     "data": {
      "text/plain": [
       "[<matplotlib.lines.Line2D at 0xcb4fda2f48>,\n",
       " <matplotlib.lines.Line2D at 0xcb4fda2548>]"
      ]
     },
     "execution_count": 44,
     "metadata": {},
     "output_type": "execute_result"
    },
    {
     "data": {
      "image/png": "[encoded data removed]",
      "text/plain": [
       "<Figure size 432x288 with 1 Axes>"
      ]
     },
     "metadata": {
      "needs_background": "light"
     },
     "output_type": "display_data"
    }
   ],
   "source": [
    "plt.plot(t.index, t['США'],(t['Доллар США']-60)*1000000)"
   ]
  },
  {
   "cell_type": "code",
   "execution_count": 45,
   "metadata": {},
   "outputs": [
    {
     "data": {
      "text/plain": [
       "[<matplotlib.lines.Line2D at 0xcb5101ebc8>,\n",
       " <matplotlib.lines.Line2D at 0xcb51146fc8>]"
      ]
     },
     "execution_count": 45,
     "metadata": {},
     "output_type": "execute_result"
    },
    {
     "data": {
      "image/png": "[encoded data removed]",
      "text/plain": [
       "<Figure size 432x288 with 1 Axes>"
      ]
     },
     "metadata": {
      "needs_background": "light"
     },
     "output_type": "display_data"
    }
   ],
   "source": [
    "plt.plot(t.index, t['США'],(t['Доллар/Евро']-0.8)*80000000)"
   ]
  },
  {
   "cell_type": "code",
   "execution_count": 46,
   "metadata": {},
   "outputs": [
    {
     "data": {
      "text/plain": [
       "[<matplotlib.lines.Line2D at 0xcb51115648>,\n",
       " <matplotlib.lines.Line2D at 0xcb514c4c48>]"
      ]
     },
     "execution_count": 46,
     "metadata": {},
     "output_type": "execute_result"
    },
    {
     "data": {
      "image/png": "[encoded data removed]",
      "text/plain": [
       "<Figure size 432x288 with 1 Axes>"
      ]
     },
     "metadata": {
      "needs_background": "light"
     },
     "output_type": "display_data"
    }
   ],
   "source": [
    "plt.plot(t.index, t['Германия'],(t['Евро/Доллар']-0.9)*3000000-200000)"
   ]
  },
  {
   "cell_type": "code",
   "execution_count": 47,
   "metadata": {},
   "outputs": [
    {
     "data": {
      "text/plain": [
       "[<matplotlib.lines.Line2D at 0xcb5182bac8>,\n",
       " <matplotlib.lines.Line2D at 0xcb51814148>]"
      ]
     },
     "execution_count": 47,
     "metadata": {},
     "output_type": "execute_result"
    },
    {
     "data": {
      "image/png": "[encoded data removed]",
      "text/plain": [
       "<Figure size 432x288 with 1 Axes>"
      ]
     },
     "metadata": {
      "needs_background": "light"
     },
     "output_type": "display_data"
    }
   ],
   "source": [
    "plt.plot(t.index, t['Россия'],t[\"Германия\"])"
   ]
  },
  {
   "cell_type": "code",
   "execution_count": 48,
   "metadata": {},
   "outputs": [
    {
     "data": {
      "text/plain": [
       "[<matplotlib.lines.Line2D at 0xcb51b996c8>,\n",
       " <matplotlib.lines.Line2D at 0xcb51b69388>]"
      ]
     },
     "execution_count": 48,
     "metadata": {},
     "output_type": "execute_result"
    },
    {
     "data": {
      "image/png": "[encoded data removed]",
      "text/plain": [
       "<Figure size 432x288 with 1 Axes>"
      ]
     },
     "metadata": {
      "needs_background": "light"
     },
     "output_type": "display_data"
    }
   ],
   "source": [
    "plt.plot(t.index, t['Всего'],(t['Доллар США']-60)*1000000)"
   ]
  },
  {
   "cell_type": "code",
   "execution_count": 53,
   "metadata": {},
   "outputs": [],
   "source": [
    "import pyarrow.parquet as pq\n",
    "import pyarrow as pa\n",
    "import os\n",
    "import time"
   ]
  },
  {
   "cell_type": "code",
   "execution_count": 58,
   "metadata": {},
   "outputs": [
    {
     "name": "stdout",
     "output_type": "stream",
     "text": [
      "58337\n",
      "0.008007526397705078\n"
     ]
    }
   ],
   "source": [
    "start=time.time()\n",
    "t.to_csv(\"1.csv\")\n",
    "print(os.path.getsize(\"1.csv\"))\n",
    "print(time.time()-start)"
   ]
  },
  {
   "cell_type": "code",
   "execution_count": 84,
   "metadata": {},
   "outputs": [
    {
     "name": "stdout",
     "output_type": "stream",
     "text": [
      "Wall time: 4 ms\n"
     ]
    },
    {
     "data": {
      "text/html": [
       "<div>\n",
       "<style scoped>\n",
       "    .dataframe tbody tr th:only-of-type {\n",
       "        vertical-align: middle;\n",
       "    }\n",
       "\n",
       "    .dataframe tbody tr th {\n",
       "        vertical-align: top;\n",
       "    }\n",
       "\n",
       "    .dataframe thead th {\n",
       "        text-align: right;\n",
       "    }\n",
       "</style>\n",
       "<table border=\"1\" class=\"dataframe\">\n",
       "  <thead>\n",
       "    <tr style=\"text-align: right;\">\n",
       "      <th></th>\n",
       "      <th>Россия</th>\n",
       "    </tr>\n",
       "  </thead>\n",
       "  <tbody>\n",
       "    <tr>\n",
       "      <td>0</td>\n",
       "      <td>0</td>\n",
       "    </tr>\n",
       "    <tr>\n",
       "      <td>1</td>\n",
       "      <td>0</td>\n",
       "    </tr>\n",
       "    <tr>\n",
       "      <td>2</td>\n",
       "      <td>0</td>\n",
       "    </tr>\n",
       "    <tr>\n",
       "      <td>3</td>\n",
       "      <td>0</td>\n",
       "    </tr>\n",
       "    <tr>\n",
       "      <td>4</td>\n",
       "      <td>0</td>\n",
       "    </tr>\n",
       "    <tr>\n",
       "      <td>...</td>\n",
       "      <td>...</td>\n",
       "    </tr>\n",
       "    <tr>\n",
       "      <td>294</td>\n",
       "      <td>1822345</td>\n",
       "    </tr>\n",
       "    <tr>\n",
       "      <td>295</td>\n",
       "      <td>1843678</td>\n",
       "    </tr>\n",
       "    <tr>\n",
       "      <td>296</td>\n",
       "      <td>1865395</td>\n",
       "    </tr>\n",
       "    <tr>\n",
       "      <td>297</td>\n",
       "      <td>1887836</td>\n",
       "    </tr>\n",
       "    <tr>\n",
       "      <td>298</td>\n",
       "      <td>1910149</td>\n",
       "    </tr>\n",
       "  </tbody>\n",
       "</table>\n",
       "<p>299 rows × 1 columns</p>\n",
       "</div>"
      ],
      "text/plain": [
       "      Россия\n",
       "0          0\n",
       "1          0\n",
       "2          0\n",
       "3          0\n",
       "4          0\n",
       "..       ...\n",
       "294  1822345\n",
       "295  1843678\n",
       "296  1865395\n",
       "297  1887836\n",
       "298  1910149\n",
       "\n",
       "[299 rows x 1 columns]"
      ]
     },
     "execution_count": 84,
     "metadata": {},
     "output_type": "execute_result"
    }
   ],
   "source": [
    "%%time\n",
    "pd.read_csv(\"1.csv\")[[\"Россия\"]]"
   ]
  },
  {
   "cell_type": "code",
   "execution_count": 86,
   "metadata": {},
   "outputs": [],
   "source": [
    "pt=pa.Table.from_pandas(t)"
   ]
  },
  {
   "cell_type": "code",
   "execution_count": 59,
   "metadata": {},
   "outputs": [
    {
     "name": "stdout",
     "output_type": "stream",
     "text": [
      "44471\n",
      "0.003019571304321289\n"
     ]
    }
   ],
   "source": [
    "start=time.time()\n",
    "pq.write_table(pt, '1.parquet')\n",
    "print(os.path.getsize(\"1.parquet\"))\n",
    "print(time.time()-start)"
   ]
  },
  {
   "cell_type": "code",
   "execution_count": 85,
   "metadata": {},
   "outputs": [
    {
     "name": "stdout",
     "output_type": "stream",
     "text": [
      "40386\n"
     ]
    }
   ],
   "source": [
    "t.to_parquet('2.parquet',compression=\"gzip\")\n",
    "print(os.path.getsize(\"2.parquet\"))"
   ]
  },
  {
   "cell_type": "code",
   "execution_count": 79,
   "metadata": {},
   "outputs": [
    {
     "name": "stdout",
     "output_type": "stream",
     "text": [
      "Wall time: 5 ms\n"
     ]
    },
    {
     "data": {
      "text/html": [
       "<div>\n",
       "<style scoped>\n",
       "    .dataframe tbody tr th:only-of-type {\n",
       "        vertical-align: middle;\n",
       "    }\n",
       "\n",
       "    .dataframe tbody tr th {\n",
       "        vertical-align: top;\n",
       "    }\n",
       "\n",
       "    .dataframe thead th {\n",
       "        text-align: right;\n",
       "    }\n",
       "</style>\n",
       "<table border=\"1\" class=\"dataframe\">\n",
       "  <thead>\n",
       "    <tr style=\"text-align: right;\">\n",
       "      <th></th>\n",
       "      <th>Россия</th>\n",
       "    </tr>\n",
       "    <tr>\n",
       "      <th>Дата</th>\n",
       "      <th></th>\n",
       "    </tr>\n",
       "  </thead>\n",
       "  <tbody>\n",
       "    <tr>\n",
       "      <td>1/22/20</td>\n",
       "      <td>0</td>\n",
       "    </tr>\n",
       "    <tr>\n",
       "      <td>1/23/20</td>\n",
       "      <td>0</td>\n",
       "    </tr>\n",
       "    <tr>\n",
       "      <td>1/24/20</td>\n",
       "      <td>0</td>\n",
       "    </tr>\n",
       "    <tr>\n",
       "      <td>1/25/20</td>\n",
       "      <td>0</td>\n",
       "    </tr>\n",
       "    <tr>\n",
       "      <td>1/26/20</td>\n",
       "      <td>0</td>\n",
       "    </tr>\n",
       "    <tr>\n",
       "      <td>...</td>\n",
       "      <td>...</td>\n",
       "    </tr>\n",
       "    <tr>\n",
       "      <td>11/11/20</td>\n",
       "      <td>1822345</td>\n",
       "    </tr>\n",
       "    <tr>\n",
       "      <td>11/12/20</td>\n",
       "      <td>1843678</td>\n",
       "    </tr>\n",
       "    <tr>\n",
       "      <td>11/13/20</td>\n",
       "      <td>1865395</td>\n",
       "    </tr>\n",
       "    <tr>\n",
       "      <td>11/14/20</td>\n",
       "      <td>1887836</td>\n",
       "    </tr>\n",
       "    <tr>\n",
       "      <td>11/15/20</td>\n",
       "      <td>1910149</td>\n",
       "    </tr>\n",
       "  </tbody>\n",
       "</table>\n",
       "<p>299 rows × 1 columns</p>\n",
       "</div>"
      ],
      "text/plain": [
       "           Россия\n",
       "Дата             \n",
       "1/22/20         0\n",
       "1/23/20         0\n",
       "1/24/20         0\n",
       "1/25/20         0\n",
       "1/26/20         0\n",
       "...           ...\n",
       "11/11/20  1822345\n",
       "11/12/20  1843678\n",
       "11/13/20  1865395\n",
       "11/14/20  1887836\n",
       "11/15/20  1910149\n",
       "\n",
       "[299 rows x 1 columns]"
      ]
     },
     "execution_count": 79,
     "metadata": {},
     "output_type": "execute_result"
    }
   ],
   "source": [
    "%%time\n",
    "pq.read_pandas('1.parquet', columns=['Россия']).to_pandas()"
   ]
  },
  {
   "cell_type": "code",
   "execution_count": 77,
   "metadata": {},
   "outputs": [
    {
     "name": "stdout",
     "output_type": "stream",
     "text": [
      "Wall time: 7.01 ms\n"
     ]
    },
    {
     "data": {
      "text/html": [
       "<div>\n",
       "<style scoped>\n",
       "    .dataframe tbody tr th:only-of-type {\n",
       "        vertical-align: middle;\n",
       "    }\n",
       "\n",
       "    .dataframe tbody tr th {\n",
       "        vertical-align: top;\n",
       "    }\n",
       "\n",
       "    .dataframe thead th {\n",
       "        text-align: right;\n",
       "    }\n",
       "</style>\n",
       "<table border=\"1\" class=\"dataframe\">\n",
       "  <thead>\n",
       "    <tr style=\"text-align: right;\">\n",
       "      <th></th>\n",
       "      <th>Россия</th>\n",
       "      <th>США</th>\n",
       "    </tr>\n",
       "    <tr>\n",
       "      <th>Дата</th>\n",
       "      <th></th>\n",
       "      <th></th>\n",
       "    </tr>\n",
       "  </thead>\n",
       "  <tbody>\n",
       "    <tr>\n",
       "      <td>1/22/20</td>\n",
       "      <td>0</td>\n",
       "      <td>1</td>\n",
       "    </tr>\n",
       "    <tr>\n",
       "      <td>1/23/20</td>\n",
       "      <td>0</td>\n",
       "      <td>1</td>\n",
       "    </tr>\n",
       "    <tr>\n",
       "      <td>1/24/20</td>\n",
       "      <td>0</td>\n",
       "      <td>2</td>\n",
       "    </tr>\n",
       "    <tr>\n",
       "      <td>1/25/20</td>\n",
       "      <td>0</td>\n",
       "      <td>2</td>\n",
       "    </tr>\n",
       "    <tr>\n",
       "      <td>1/26/20</td>\n",
       "      <td>0</td>\n",
       "      <td>5</td>\n",
       "    </tr>\n",
       "    <tr>\n",
       "      <td>...</td>\n",
       "      <td>...</td>\n",
       "      <td>...</td>\n",
       "    </tr>\n",
       "    <tr>\n",
       "      <td>11/11/20</td>\n",
       "      <td>1822345</td>\n",
       "      <td>10399325</td>\n",
       "    </tr>\n",
       "    <tr>\n",
       "      <td>11/12/20</td>\n",
       "      <td>1843678</td>\n",
       "      <td>10560111</td>\n",
       "    </tr>\n",
       "    <tr>\n",
       "      <td>11/13/20</td>\n",
       "      <td>1865395</td>\n",
       "      <td>10737335</td>\n",
       "    </tr>\n",
       "    <tr>\n",
       "      <td>11/14/20</td>\n",
       "      <td>1887836</td>\n",
       "      <td>10903890</td>\n",
       "    </tr>\n",
       "    <tr>\n",
       "      <td>11/15/20</td>\n",
       "      <td>1910149</td>\n",
       "      <td>11036935</td>\n",
       "    </tr>\n",
       "  </tbody>\n",
       "</table>\n",
       "<p>299 rows × 2 columns</p>\n",
       "</div>"
      ],
      "text/plain": [
       "           Россия       США\n",
       "Дата                       \n",
       "1/22/20         0         1\n",
       "1/23/20         0         1\n",
       "1/24/20         0         2\n",
       "1/25/20         0         2\n",
       "1/26/20         0         5\n",
       "...           ...       ...\n",
       "11/11/20  1822345  10399325\n",
       "11/12/20  1843678  10560111\n",
       "11/13/20  1865395  10737335\n",
       "11/14/20  1887836  10903890\n",
       "11/15/20  1910149  11036935\n",
       "\n",
       "[299 rows x 2 columns]"
      ]
     },
     "execution_count": 77,
     "metadata": {},
     "output_type": "execute_result"
    }
   ],
   "source": [
    "%%time\n",
    "pq.read_pandas('1.parquet', columns=['Россия',\"США\"]).to_pandas()"
   ]
  }
 ],
 "metadata": {
  "kernelspec": {
   "display_name": "Python 3",
   "language": "python",
   "name": "python3"
  },
  "language_info": {
   "codemirror_mode": {
    "name": "ipython",
    "version": 3
   },
   "file_extension": ".py",
   "mimetype": "text/x-python",
   "name": "python",
   "nbconvert_exporter": "python",
   "pygments_lexer": "ipython3",
   "version": "3.7.4"
  }
 },
 "nbformat": 4,
 "nbformat_minor": 4
}
